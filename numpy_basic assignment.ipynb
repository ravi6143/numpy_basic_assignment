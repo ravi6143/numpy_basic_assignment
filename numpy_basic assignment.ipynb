{
 "cells": [
  {
   "cell_type": "code",
   "execution_count": 1,
   "id": "cc4e8f9d-20fd-4363-9213-0315cfcda540",
   "metadata": {},
   "outputs": [],
   "source": [
    "import numpy as np"
   ]
  },
  {
   "cell_type": "code",
   "execution_count": 3,
   "id": "f6a4daef-ef04-4706-8127-1bedf2b1c0d0",
   "metadata": {},
   "outputs": [],
   "source": [
    "list_ = [ '1' , '2' , '3' , '4' , '5' ]\n",
    "array_list = np.array(object = list_)"
   ]
  },
  {
   "cell_type": "markdown",
   "id": "971e672f-98d4-42eb-b3de-b696200e311d",
   "metadata": {},
   "source": [
    "Question - 1\n",
    "ans - "
   ]
  },
  {
   "cell_type": "code",
   "execution_count": 4,
   "id": "26053b93-d8b8-4ab8-8492-30c584f6f2b8",
   "metadata": {},
   "outputs": [
    {
     "data": {
      "text/plain": [
       "array(['1', '2', '3', '4', '5'], dtype='<U1')"
      ]
     },
     "execution_count": 4,
     "metadata": {},
     "output_type": "execute_result"
    }
   ],
   "source": [
    "array_list"
   ]
  },
  {
   "cell_type": "code",
   "execution_count": 6,
   "id": "00cdaa0a-e20e-41fd-b6c0-0f0bf173d8c9",
   "metadata": {},
   "outputs": [
    {
     "data": {
      "text/plain": [
       "str"
      ]
     },
     "execution_count": 6,
     "metadata": {},
     "output_type": "execute_result"
    }
   ],
   "source": [
    "type(list_[1])"
   ]
  },
  {
   "cell_type": "code",
   "execution_count": 7,
   "id": "2372c674-bd13-4ee5-a5b3-7d1d8a8f84fa",
   "metadata": {},
   "outputs": [
    {
     "data": {
      "text/plain": [
       "dtype('<U1')"
      ]
     },
     "execution_count": 7,
     "metadata": {},
     "output_type": "execute_result"
    }
   ],
   "source": [
    "array_list.dtype"
   ]
  },
  {
   "cell_type": "markdown",
   "id": "cdda2ac4-61db-4fcb-90ca-9b22530772e5",
   "metadata": {},
   "source": [
    " The data type of the elements in the Python list list_ is <class 'str'>, which stands for string. The data type of the elements in the NumPy array array_list is <U1, which is a Unicode string of length 1. The difference arises from the fact that NumPy arrays have a fixed data type for their elements, and when creating the array, NumPy tries to infer the most appropriate data type based on the input data."
   ]
  },
  {
   "cell_type": "code",
   "execution_count": null,
   "id": "5595af1f-b92c-4e91-9500-2b1ae7f0a222",
   "metadata": {},
   "outputs": [],
   "source": []
  },
  {
   "cell_type": "code",
   "execution_count": null,
   "id": "765d307d-14b8-4c8c-ad1f-82c8dabcf70f",
   "metadata": {},
   "outputs": [],
   "source": []
  },
  {
   "cell_type": "markdown",
   "id": "2c63aa2a-d84d-47e9-8748-49f7a41e8c3a",
   "metadata": {},
   "source": [
    "Question - 2\n",
    "ans  - "
   ]
  },
  {
   "cell_type": "code",
   "execution_count": 11,
   "id": "e67e8b50-81ed-45f8-9e5c-41545ec40f26",
   "metadata": {},
   "outputs": [
    {
     "name": "stdout",
     "output_type": "stream",
     "text": [
      "<class 'str'>\n",
      "<class 'str'>\n",
      "<class 'str'>\n",
      "<class 'str'>\n",
      "<class 'str'>\n"
     ]
    }
   ],
   "source": [
    "for i in list_:\n",
    "    print(type(i))"
   ]
  },
  {
   "cell_type": "code",
   "execution_count": 12,
   "id": "8e21c09e-121f-4779-b091-e4d8a14952b7",
   "metadata": {},
   "outputs": [
    {
     "name": "stdout",
     "output_type": "stream",
     "text": [
      "<U1\n",
      "<U1\n",
      "<U1\n",
      "<U1\n",
      "<U1\n"
     ]
    }
   ],
   "source": [
    "for i in array_list:\n",
    "    print(i.dtype)"
   ]
  },
  {
   "cell_type": "code",
   "execution_count": null,
   "id": "4a1251f1-6636-4e75-b21d-b6939bf2203e",
   "metadata": {},
   "outputs": [],
   "source": []
  },
  {
   "cell_type": "code",
   "execution_count": null,
   "id": "cd69ee1c-35e2-4099-89dc-d18e334a00fa",
   "metadata": {},
   "outputs": [],
   "source": []
  },
  {
   "cell_type": "markdown",
   "id": "eae0affd-e1fd-4bea-b39c-f97c77b7b3ac",
   "metadata": {},
   "source": [
    "Question - 3\n",
    "ans - "
   ]
  },
  {
   "cell_type": "code",
   "execution_count": 13,
   "id": "cd6b956e-b2ef-4a94-ace8-90d6a3700be3",
   "metadata": {},
   "outputs": [],
   "source": [
    "array_list = np.array(object = list_, dtype = int)"
   ]
  },
  {
   "cell_type": "code",
   "execution_count": 14,
   "id": "53fe3ce9-7e9c-4c60-9d17-1f545ad0e3a7",
   "metadata": {},
   "outputs": [
    {
     "data": {
      "text/plain": [
       "array([1, 2, 3, 4, 5])"
      ]
     },
     "execution_count": 14,
     "metadata": {},
     "output_type": "execute_result"
    }
   ],
   "source": [
    "array_list"
   ]
  },
  {
   "cell_type": "code",
   "execution_count": 20,
   "id": "e98c794d-b74d-4c9e-8134-c3884df26b12",
   "metadata": {},
   "outputs": [
    {
     "name": "stdout",
     "output_type": "stream",
     "text": [
      "<class 'str'>\n",
      "<class 'str'>\n",
      "<class 'str'>\n",
      "<class 'str'>\n",
      "<class 'str'>\n"
     ]
    }
   ],
   "source": [
    "for i in list_:\n",
    "    print(type(i))"
   ]
  },
  {
   "cell_type": "markdown",
   "id": "a1339d35-5c93-4d9c-869f-296055220ceb",
   "metadata": {},
   "source": [
    "for i in array_list:\n",
    "    print(i.dtype)"
   ]
  },
  {
   "cell_type": "markdown",
   "id": "45e47e93-7481-49ed-a528-cb2e0add31fd",
   "metadata": {},
   "source": [
    "there is a difference between the type of elements of both the varibles, \n",
    "array_list contains integer as it is modified earlier and list_ contains string datatype."
   ]
  },
  {
   "cell_type": "code",
   "execution_count": null,
   "id": "378f8752-40b3-4e95-aa1a-faf7e1369f64",
   "metadata": {},
   "outputs": [],
   "source": []
  },
  {
   "cell_type": "code",
   "execution_count": null,
   "id": "48462e55-54ed-4403-b8ec-2e11647548c7",
   "metadata": {},
   "outputs": [],
   "source": []
  },
  {
   "cell_type": "markdown",
   "id": "cf4c6db4-5140-4730-b158-a81e31e61c2a",
   "metadata": {},
   "source": [
    "Question - 4\n",
    "ans - "
   ]
  },
  {
   "cell_type": "code",
   "execution_count": 24,
   "id": "92961194-2393-4bc5-b74f-610ead434d84",
   "metadata": {},
   "outputs": [],
   "source": [
    "import numpy as np\n",
    "num_list = [ [ 1 , 2 , 3 ] , [ 4 , 5 , 6 ] ]\n",
    "num_array = np.array(object = num_list)"
   ]
  },
  {
   "cell_type": "code",
   "execution_count": 25,
   "id": "bc22e3e0-ca17-4e17-a550-b02b3926010a",
   "metadata": {},
   "outputs": [
    {
     "data": {
      "text/plain": [
       "array([[1, 2, 3],\n",
       "       [4, 5, 6]])"
      ]
     },
     "execution_count": 25,
     "metadata": {},
     "output_type": "execute_result"
    }
   ],
   "source": [
    "num_array"
   ]
  },
  {
   "cell_type": "code",
   "execution_count": 26,
   "id": "b8d57632-35ca-4a17-8e5a-8799e99ffbe6",
   "metadata": {},
   "outputs": [
    {
     "data": {
      "text/plain": [
       "(2, 3)"
      ]
     },
     "execution_count": 26,
     "metadata": {},
     "output_type": "execute_result"
    }
   ],
   "source": [
    "np.shape(num_array)"
   ]
  },
  {
   "cell_type": "code",
   "execution_count": 27,
   "id": "05b69fe8-956b-4d1d-8994-ecedfa56588e",
   "metadata": {},
   "outputs": [
    {
     "data": {
      "text/plain": [
       "6"
      ]
     },
     "execution_count": 27,
     "metadata": {},
     "output_type": "execute_result"
    }
   ],
   "source": [
    "np.size(num_array)"
   ]
  },
  {
   "cell_type": "code",
   "execution_count": null,
   "id": "5305570f-d705-4bb6-95ea-e324897dacc5",
   "metadata": {},
   "outputs": [],
   "source": []
  },
  {
   "cell_type": "code",
   "execution_count": null,
   "id": "c8b84db0-c905-4e53-adea-9a81b363b0f7",
   "metadata": {},
   "outputs": [],
   "source": []
  },
  {
   "cell_type": "markdown",
   "id": "c562d14a-f89a-4fe2-a53a-757444e1dc67",
   "metadata": {},
   "source": [
    "Question - 5\n",
    "ans - "
   ]
  },
  {
   "cell_type": "code",
   "execution_count": 31,
   "id": "57c3bcc8-5d51-47ae-9439-955c8571fe2f",
   "metadata": {},
   "outputs": [],
   "source": [
    " zero_matrix= np.zeros((3,3))"
   ]
  },
  {
   "cell_type": "code",
   "execution_count": 32,
   "id": "055e3f82-f515-4a67-99ea-d9dda297a0b3",
   "metadata": {},
   "outputs": [
    {
     "data": {
      "text/plain": [
       "array([[0., 0., 0.],\n",
       "       [0., 0., 0.],\n",
       "       [0., 0., 0.]])"
      ]
     },
     "execution_count": 32,
     "metadata": {},
     "output_type": "execute_result"
    }
   ],
   "source": [
    "zero_matrix"
   ]
  },
  {
   "cell_type": "code",
   "execution_count": null,
   "id": "9029d1ed-73e8-4973-a7b7-5837d5289e7d",
   "metadata": {},
   "outputs": [],
   "source": []
  },
  {
   "cell_type": "code",
   "execution_count": null,
   "id": "533477f4-3998-4c38-98de-cbe6849f3dcd",
   "metadata": {},
   "outputs": [],
   "source": []
  },
  {
   "cell_type": "markdown",
   "id": "3521ffd3-2d7e-49b2-a6d1-d3f46630dc17",
   "metadata": {},
   "source": [
    "Question - 6\n",
    "ans -"
   ]
  },
  {
   "cell_type": "code",
   "execution_count": 34,
   "id": "888e4dea-9036-4fbb-be22-6105cc0b6d63",
   "metadata": {},
   "outputs": [
    {
     "data": {
      "text/plain": [
       "array([[1., 0., 0., 0., 0.],\n",
       "       [0., 1., 0., 0., 0.],\n",
       "       [0., 0., 1., 0., 0.],\n",
       "       [0., 0., 0., 1., 0.],\n",
       "       [0., 0., 0., 0., 1.]])"
      ]
     },
     "execution_count": 34,
     "metadata": {},
     "output_type": "execute_result"
    }
   ],
   "source": [
    "np.eye((5))"
   ]
  },
  {
   "cell_type": "code",
   "execution_count": null,
   "id": "8c78b36c-c6b0-4fe9-badb-4f9770bbe6b9",
   "metadata": {},
   "outputs": [],
   "source": []
  }
 ],
 "metadata": {
  "kernelspec": {
   "display_name": "Python 3 (ipykernel)",
   "language": "python",
   "name": "python3"
  },
  "language_info": {
   "codemirror_mode": {
    "name": "ipython",
    "version": 3
   },
   "file_extension": ".py",
   "mimetype": "text/x-python",
   "name": "python",
   "nbconvert_exporter": "python",
   "pygments_lexer": "ipython3",
   "version": "3.10.8"
  }
 },
 "nbformat": 4,
 "nbformat_minor": 5
}
